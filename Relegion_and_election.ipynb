{
 "cells": [
  {
   "cell_type": "markdown",
   "metadata": {},
   "source": [
    "# Relation between religious and political affiliation in the USA"
   ]
  },
  {
   "cell_type": "markdown",
   "metadata": {},
   "source": [
    "I want to analyse how the voting for Democratic versus Republican parties in the last two elections relate to the religious Affiliation of US-Citizens. To adress this question I use the following dataset:\n",
    "\n",
    "- https://data.world/garyhoov/election-and-religion - Table: 2016 Election and 2010 Religion by County.xlsx\n",
    "    \n",
    "    For the different states and counties in the USA this datasets contains data about the votes for Democratic versus Republican parties in the elections in 2010 and 2016 and the religious adherents \n",
    "\n",
    "To create a Pie plot of the distributions of the relgions in the USA, I use the following dataset:\n",
    "\n",
    "- https://en.wikipedia.org/wiki/Religion_in_the_United_States - Table: Religion in the United States according to the American Values Atlas published by the Public Religion Research Institute (2016)"
   ]
  },
  {
   "cell_type": "markdown",
   "metadata": {},
   "source": [
    "### Loading the libraries and parsing the wikipedia table with beoutiful soup"
   ]
  },
  {
   "cell_type": "code",
   "execution_count": 1,
   "metadata": {},
   "outputs": [
    {
     "name": "stdout",
     "output_type": "stream",
     "text": [
      "Libraries imported.\n"
     ]
    }
   ],
   "source": [
    "import matplotlib.pyplot as plt \n",
    "import pandas as pd\n",
    "import numpy as np\n",
    "%matplotlib notebook\n",
    "from scipy import stats\n",
    "import requests \n",
    "import urllib.request, urllib.parse, urllib.error\n",
    "from bs4 import BeautifulSoup \n",
    "import ssl "
   ]
  },
  {
   "cell_type": "code",
   "execution_count": 2,
   "metadata": {},
   "outputs": [],
   "source": [
    "#parsing the table from the wikipedia page using beautiful soup\n",
    "ctx = ssl.create_default_context()\n",
    "ctx.check_hostname = False\n",
    "ctx.verify_mode = ssl.CERT_NONE\n",
    "\n",
    "url = \"https://en.wikipedia.org/wiki/Religion_in_the_United_States\"\n",
    "html = urllib.request.urlopen(url, context=ctx).read() \n",
    "soup = BeautifulSoup(html, 'html.parser')"
   ]
  },
  {
   "cell_type": "code",
   "execution_count": 3,
   "metadata": {},
   "outputs": [
    {
     "data": {
      "text/plain": [
       "<table class=\"wikitable sortable\">\n",
       "<caption style=\"font-size:100%\">Religion in the United States according to the American Values Atlas published by the Public Religion Research Institute (2016)<sup class=\"reference\" id=\"cite_ref-AVA2017_22-6\"><a href=\"#cite_note-AVA2017-22\">[22]</a></sup>\n",
       "</caption>\n",
       "<tbody><tr>\n",
       "<th>Affiliation\n",
       "</th>\n",
       "<th colspan=\"2\">% of U.S. population\n",
       "</th></tr>\n",
       "<tr>\n",
       "<td>Christian\n",
       "</td>\n",
       "<td align=\"right\"><b>69</b>\n",
       "</td>\n",
       "<td align=\"left\"><span style=\"display:none;\">69</span><div style=\"width:138px;height:2ex;background:#aaa;background:darkblue\"> </div>\n",
       "</td></tr>\n",
       "<tr>\n",
       "<td style=\"text-align:left; text-indent:15px;\">Protestant\n",
       "</td>\n",
       "<td align=\"right\"><b>45</b>\n",
       "</td>\n",
       "<td align=\"left\"><span style=\"display:none;\">45</span><div style=\"width:90px;height:2ex;background:#aaa;background:mediumblue\"> </div>\n",
       "</td></tr>\n",
       "<tr>\n",
       "<td style=\"text-align:left; text-indent:30px;\">White Evangelical\n",
       "</td>\n",
       "<td align=\"right\"><b>17</b>\n",
       "</td>\n",
       "<td align=\"left\"><span style=\"display:none;\">17</span><div style=\"width:34px;height:2ex;background:#aaa;background:lightblue\"> </div>\n",
       "</td></tr>\n",
       "<tr>\n",
       "<td style=\"text-align:left; text-indent:30px;\">White <a href=\"/wiki/Mainline_Protestant\" title=\"Mainline Protestant\">Mainline Protestant</a>\n",
       "</td>\n",
       "<td align=\"right\"><b>13</b>\n",
       "</td>\n",
       "<td align=\"left\"><span style=\"display:none;\">13</span><div style=\"width:26px;height:2ex;background:#aaa;background:lightblue\"> </div>\n",
       "</td></tr>\n",
       "<tr>\n",
       "<td style=\"text-align:left; text-indent:30px;\"><a href=\"/wiki/Black_church\" title=\"Black church\">Black Protestant</a>\n",
       "</td>\n",
       "<td align=\"right\"><b>8</b>\n",
       "</td>\n",
       "<td align=\"left\"><span style=\"display:none;\">8</span><div style=\"width:16px;height:2ex;background:#aaa;background:lightblue\"> </div>\n",
       "</td></tr>\n",
       "<tr>\n",
       "<td style=\"text-align:left; text-indent:30px;\">Hispanic Protestant\n",
       "</td>\n",
       "<td align=\"right\"><b>4</b>\n",
       "</td>\n",
       "<td align=\"left\"><span style=\"display:none;\">4</span><div style=\"width:8px;height:2ex;background:#aaa;background:lightblue\"> </div>\n",
       "</td></tr>\n",
       "<tr>\n",
       "<td style=\"text-align:left; text-indent:30px;\">Other non-white Protestant\n",
       "</td>\n",
       "<td align=\"right\"><b>3</b>\n",
       "</td>\n",
       "<td align=\"left\"><span style=\"display:none;\">3</span><div style=\"width:6px;height:2ex;background:#aaa;background:lightblue\"> </div>\n",
       "</td></tr>\n",
       "<tr>\n",
       "<td style=\"text-align:left; text-indent:15px;\">Catholic\n",
       "</td>\n",
       "<td align=\"right\"><b>20</b>\n",
       "</td>\n",
       "<td align=\"left\"><span style=\"display:none;\">20</span><div style=\"width:40px;height:2ex;background:#aaa;background:mediumblue\"> </div>\n",
       "</td></tr>\n",
       "<tr>\n",
       "<td style=\"text-align:left; text-indent:30px;\">White Catholic\n",
       "</td>\n",
       "<td align=\"right\"><b>11</b>\n",
       "</td>\n",
       "<td align=\"left\"><span style=\"display:none;\">11</span><div style=\"width:22px;height:2ex;background:#aaa;background:lightblue\"> </div>\n",
       "</td></tr>\n",
       "<tr>\n",
       "<td style=\"text-align:left; text-indent:30px;\">Hispanic Catholic\n",
       "</td>\n",
       "<td align=\"right\"><b>7</b>\n",
       "</td>\n",
       "<td align=\"left\"><span style=\"display:none;\">7</span><div style=\"width:14px;height:2ex;background:#aaa;background:lightblue\"> </div>\n",
       "</td></tr>\n",
       "<tr>\n",
       "<td style=\"text-align:left; text-indent:30px;\">Other non-white Catholic\n",
       "</td>\n",
       "<td align=\"right\"><b>2</b>\n",
       "</td>\n",
       "<td align=\"left\"><span style=\"display:none;\">2</span><div style=\"width:4px;height:2ex;background:#aaa;background:lightblue\"> </div>\n",
       "</td></tr>\n",
       "<tr>\n",
       "<td style=\"text-align:left; text-indent:15px;\">Mormon\n",
       "</td>\n",
       "<td align=\"right\"><b>1</b>\n",
       "</td>\n",
       "<td align=\"left\"><span style=\"display:none;\">1</span><div style=\"width:2px;height:2ex;background:#aaa;background:mediumblue\"> </div>\n",
       "</td></tr>\n",
       "<tr>\n",
       "<td style=\"text-align:left; text-indent:15px;\">Jehovah's Witness\n",
       "</td>\n",
       "<td align=\"right\"><b>1</b>\n",
       "</td>\n",
       "<td align=\"left\"><span style=\"display:none;\">1</span><div style=\"width:2px;height:2ex;background:#aaa;background:mediumblue\"> </div>\n",
       "</td></tr>\n",
       "<tr>\n",
       "<td style=\"text-align:left; text-indent:15px;\">Orthodox Christian\n",
       "</td>\n",
       "<td align=\"right\"><b>1</b>\n",
       "</td>\n",
       "<td align=\"left\"><span style=\"display:none;\">1</span><div style=\"width:2px;height:2ex;background:#aaa;background:mediumblue\"> </div>\n",
       "</td></tr>\n",
       "<tr>\n",
       "<td>Unaffiliated\n",
       "</td>\n",
       "<td align=\"right\"><b>24</b>\n",
       "</td>\n",
       "<td align=\"left\"><span style=\"display:none;\">24</span><div style=\"width:48px;height:2ex;background:#aaa;background:purple\"> </div>\n",
       "</td></tr>\n",
       "<tr>\n",
       "<td>Non-Christian\n",
       "</td>\n",
       "<td align=\"right\"><b>7</b>\n",
       "</td>\n",
       "<td align=\"left\"><span style=\"display:none;\">7</span><div style=\"width:14px;height:2ex;background:#aaa;background:darkgreen\"> </div>\n",
       "</td></tr>\n",
       "<tr>\n",
       "<td style=\"text-align:left; text-indent:15px;\">Jewish\n",
       "</td>\n",
       "<td align=\"right\"><b>2</b>\n",
       "</td>\n",
       "<td align=\"left\"><span style=\"display:none;\">2</span><div style=\"width:4px;height:2ex;background:#aaa;background:lightgreen\"> </div>\n",
       "</td></tr>\n",
       "<tr>\n",
       "<td style=\"text-align:left; text-indent:15px;\">Muslim\n",
       "</td>\n",
       "<td align=\"right\"><b>1</b>\n",
       "</td>\n",
       "<td align=\"left\"><span style=\"display:none;\">1</span><div style=\"width:2px;height:2ex;background:#aaa;background:lightgreen\"> </div>\n",
       "</td></tr>\n",
       "<tr>\n",
       "<td style=\"text-align:left; text-indent:15px;\">Buddhist\n",
       "</td>\n",
       "<td align=\"right\"><b>1</b>\n",
       "</td>\n",
       "<td align=\"left\"><span style=\"display:none;\">1</span><div style=\"width:2px;height:2ex;background:#aaa;background:lightgreen\"> </div>\n",
       "</td></tr>\n",
       "<tr>\n",
       "<td style=\"text-align:left; text-indent:15px;\">Hindu\n",
       "</td>\n",
       "<td align=\"right\"><b>1</b>\n",
       "</td>\n",
       "<td align=\"left\"><span style=\"display:none;\">1</span><div style=\"width:2px;height:2ex;background:#aaa;background:lightgreen\"> </div>\n",
       "</td></tr>\n",
       "<tr>\n",
       "<td style=\"text-align:left; text-indent:15px;\">Other non-Christian\n",
       "</td>\n",
       "<td align=\"right\"><b>1</b>\n",
       "</td>\n",
       "<td align=\"left\"><span style=\"display:none;\">1</span><div style=\"width:2px;height:2ex;background:#aaa;background:lightgreen\"> </div>\n",
       "</td></tr>\n",
       "<tr>\n",
       "<td>Don't know/refused answer\n",
       "</td>\n",
       "<td align=\"right\"><b>1</b>\n",
       "</td>\n",
       "<td align=\"left\"><span style=\"display:none;\">1</span><div style=\"width:2px;height:2ex;background:#aaa;background:grey\"> </div>\n",
       "</td></tr>\n",
       "<tr>\n",
       "<td><b>Total</b></td>\n",
       "<td><b>100</b>\n",
       "</td>\n",
       "<td align=\"left\"><span style=\"display:none;\">100</span><div style=\"width:200px;height:2ex;background:#aaa;background:black\"> </div><b></b>\n",
       "</td></tr></tbody></table>"
      ]
     },
     "execution_count": 3,
     "metadata": {},
     "output_type": "execute_result"
    }
   ],
   "source": [
    "tables = soup(\"table\")\n",
    "religions = tables[4]\n",
    "religions"
   ]
  },
  {
   "cell_type": "code",
   "execution_count": 4,
   "metadata": {},
   "outputs": [],
   "source": [
    "#going through the html code and storing the relevant information in a dataframe\n",
    "rel= pd.DataFrame(columns = ['Affiliation','% US-Population'])\n",
    "for tr in religions(\"tr\")[1:]: \n",
    "        tds=tr(\"td\") \n",
    "        aff = tds[0].text.rstrip()\n",
    "        pop = tds[1].text.rstrip() \n",
    "        rel= rel.append({'Affiliation': aff, '% US-Population': pop}, ignore_index=True) "
   ]
  },
  {
   "cell_type": "code",
   "execution_count": 5,
   "metadata": {},
   "outputs": [
    {
     "data": {
      "text/html": [
       "<div>\n",
       "<style scoped>\n",
       "    .dataframe tbody tr th:only-of-type {\n",
       "        vertical-align: middle;\n",
       "    }\n",
       "\n",
       "    .dataframe tbody tr th {\n",
       "        vertical-align: top;\n",
       "    }\n",
       "\n",
       "    .dataframe thead th {\n",
       "        text-align: right;\n",
       "    }\n",
       "</style>\n",
       "<table border=\"1\" class=\"dataframe\">\n",
       "  <thead>\n",
       "    <tr style=\"text-align: right;\">\n",
       "      <th></th>\n",
       "      <th>Affiliation</th>\n",
       "      <th>% US-Population</th>\n",
       "    </tr>\n",
       "  </thead>\n",
       "  <tbody>\n",
       "    <tr>\n",
       "      <th>0</th>\n",
       "      <td>Christian</td>\n",
       "      <td>69</td>\n",
       "    </tr>\n",
       "    <tr>\n",
       "      <th>1</th>\n",
       "      <td>Protestant</td>\n",
       "      <td>45</td>\n",
       "    </tr>\n",
       "    <tr>\n",
       "      <th>2</th>\n",
       "      <td>White Evangelical</td>\n",
       "      <td>17</td>\n",
       "    </tr>\n",
       "    <tr>\n",
       "      <th>3</th>\n",
       "      <td>White Mainline Protestant</td>\n",
       "      <td>13</td>\n",
       "    </tr>\n",
       "    <tr>\n",
       "      <th>4</th>\n",
       "      <td>Black Protestant</td>\n",
       "      <td>8</td>\n",
       "    </tr>\n",
       "  </tbody>\n",
       "</table>\n",
       "</div>"
      ],
      "text/plain": [
       "                 Affiliation % US-Population\n",
       "0                  Christian              69\n",
       "1                 Protestant              45\n",
       "2          White Evangelical              17\n",
       "3  White Mainline Protestant              13\n",
       "4           Black Protestant               8"
      ]
     },
     "execution_count": 5,
     "metadata": {},
     "output_type": "execute_result"
    }
   ],
   "source": [
    "rel.head()"
   ]
  },
  {
   "cell_type": "code",
   "execution_count": 6,
   "metadata": {},
   "outputs": [],
   "source": [
    "#further processing of the datasbase\n",
    "rel.set_index(\"Affiliation\", inplace = True)\n",
    "rel['% US-Population'] = rel['% US-Population'].astype('int64')\n",
    "#only keeping the biggest religious groups\n",
    "rel_pk = rel.drop([\"Christian\", \"White Evangelical\",\"White Mainline Protestant\", \"Black Protestant\", \"Hispanic Protestant\",\"Other non-white Protestant\", \"White Catholic\", \"Hispanic Catholic\", \"Other non-white Catholic\", \"Non-Christian\", \"Other non-Christian\", \"Don't know/refused answer\", \"Total\"]) \n",
    "# creating series with other religions\n",
    "others = 100 - (rel_pk[\"% US-Population\"].sum()) \n",
    "rel_pk = rel_pk.append(pd.Series(data={'% US-Population': others}, name=('Others'))) \n",
    "#sorting by population\n",
    "rel_pk.sort_values([\"% US-Population\"], ascending=False, axis=0, inplace=True) "
   ]
  },
  {
   "cell_type": "markdown",
   "metadata": {},
   "source": [
    "### Pie Chart of the religions in the USA"
   ]
  },
  {
   "cell_type": "code",
   "execution_count": 7,
   "metadata": {},
   "outputs": [
    {
     "data": {
      "image/png": "[encoded data removed]",
      "text/plain": [
       "<Figure size 936x432 with 1 Axes>"
      ]
     },
     "metadata": {},
     "output_type": "display_data"
    }
   ],
   "source": [
    "colors_list = ['lightskyblue','lightcoral','yellowgreen','gold', 'pink', 'red', 'orange', 'blue', 'green', 'yellow', 'lightgreen']\n",
    "explode_list = [0, 0, 0, 0.1, 0.2, 0.3, 0.3, 0.3, 0.3, 0.3, 0.3] \n",
    "labels =['{} - {} %'.format(i,j) for i,j in zip(rel_pk.index, rel_pk['% US-Population'])]\n",
    "\n",
    "plt.figure(figsize=(13, 6))\n",
    "patches, texts = plt.pie(rel_pk['% US-Population'],\n",
    "                            startangle=90,          \n",
    "                            colors=colors_list,  \n",
    "                            explode=explode_list \n",
    "                            )\n",
    "\n",
    "plt.title('Religions in the United States - 2016', y=1.06)\n",
    "#get rid of labels \n",
    "plt.axis('equal') \n",
    "plt.ylabel('')\n",
    "# add legend\n",
    "plt.legend(labels = labels, loc='upper left') \n",
    "\n",
    "plt.show()"
   ]
  },
  {
   "cell_type": "markdown",
   "metadata": {},
   "source": [
    "### Bar Chart showing the mean percentages of the religious adherents in the Democratic versus Republican dominated States"
   ]
  },
  {
   "cell_type": "code",
   "execution_count": 8,
   "metadata": {},
   "outputs": [
    {
     "data": {
      "text/plain": [
       "Index(['State Code', 'County Name', 'County Population',\n",
       "       'Clinton or Trump State', 'Clinton', 'Trump', 'Total', '% Clinton',\n",
       "       '% Trump', 'Vote Difference C-T', 'Vote Difference T-C',\n",
       "       'Percent Difference C-T', 'Percent Difference T-C', 'Obama', 'Romney',\n",
       "       '2012 Total Votes', '% Obama', '% Romney', 'Vote Difference O-R',\n",
       "       '% Difference O-R', 'Clinton B(W) Obama', 'Trump B(W) Romney',\n",
       "       'Clinton % B(W) Obama', 'Trump % B(W) Romney', '2010 Land Area',\n",
       "       'Density', 'Combined FIPS Code', 'ANSI Code', 'State FIPS Code',\n",
       "       'County FIPS Code', 'CBSA Code', 'CSA Code', 'CBSA Title',\n",
       "       'CBSA Population', 'Metropolitan/Micropolitan Statistical Area',\n",
       "       'CSA Title', 'Metropolitan Division Title',\n",
       "       'Metropolitan Division Code', 'Central/Outlying County', 'POP2010',\n",
       "       'Total Congregations', 'Total Adherents',\n",
       "       'Total Adherents per Thousand', 'Evangelical Protestant Adherents',\n",
       "       'Evangelical Protestants Per Thousand', 'Black Protestant Adherents',\n",
       "       'Black Protestants per Thousand', 'Mainline Protestant  Adherents',\n",
       "       'Mainline Protestants per Thousand', 'Catholic Adherents',\n",
       "       'Catholic Adherents per Thousand', 'Orthodox Adherents',\n",
       "       'Orthodox Adherents per Thousand', 'Baha'I Adherents',\n",
       "       'Baha'I Adherents per Thousand', 'Buddhism, Mahayana Adherents',\n",
       "       'Buddhism, Mahayana Adherents per Thousand',\n",
       "       'Buddhism, Theravada Adherents',\n",
       "       'Buddhism, Theravada Adherents per Thousand',\n",
       "       'Buddhism, Vajrayana Adherents',\n",
       "       'Buddhism, Vajrayana Adherents per Thousand',\n",
       "       'Total Buddhist Adherents', 'Total Buddhist Adherents  per Thousand',\n",
       "       'Latter Day Saints Adherents',\n",
       "       'Latter Day Saints Adherents per Thousand',\n",
       "       'Indian-American Hindu Adherents',\n",
       "       'Indian-American Hindu Adherents per Thousand',\n",
       "       'Post Renaissance Hindu Adherents',\n",
       "       'Post Renaissance Hindu Adherents per Thousand',\n",
       "       'Renaissance Hindu Adherents',\n",
       "       'Renaissance Hindu Adherents per Thousand',\n",
       "       'Traditional Hindu Temples Adherents',\n",
       "       'Traditional Hindu Temples Adherents per Thousand',\n",
       "       'Total Hindu Adherents', 'Total Hindus Adherents per Thousand',\n",
       "       'Muslims Estimated', 'Muslims Estimated per Thousand',\n",
       "       'Conservative Judaism Adherents',\n",
       "       'Conservative Judaism Adherents per Thousand',\n",
       "       'Orthodox Judaism Adherents', 'Orthodox Judaism Adherents per Thousand',\n",
       "       'Reconstructionist Judaism Adherents',\n",
       "       'Reconstructionism Judaism Adherents per Thousand',\n",
       "       'Reform Judaism Adherents', 'Reform Judaism Adherents per Thousand',\n",
       "       'Total Judaism Adherents', 'Total Judaism Adherents per Thousand',\n",
       "       'Unitarian Universalist Adherents',\n",
       "       'Unitarian Universalist Adherents per Thousand',\n",
       "       'Zoroastrian Adherents', 'Zoroastrian Adherents per Thousand'],\n",
       "      dtype='object')"
      ]
     },
     "execution_count": 8,
     "metadata": {},
     "output_type": "execute_result"
    }
   ],
   "source": [
    "### Preprocessing the second dataset \n",
    "dfn=pd.read_excel(\"2010_2016_Election_and_Religion_USA.xlsx\")\n",
    "dfn.columns"
   ]
  },
  {
   "cell_type": "code",
   "execution_count": 9,
   "metadata": {},
   "outputs": [],
   "source": [
    "#grouping the states\n",
    "group= dfn.groupby([\"State Code\"]).sum()\n",
    "#getting rid of some columns\n",
    "filtered = [\"County Population\",'Clinton','Trump', 'Total','Obama', 'Romney','2012 Total Votes', 'Evangelical Protestant Adherents', 'Black Protestant Adherents', 'Mainline Protestant  Adherents', 'Catholic Adherents','Orthodox Adherents', \"Baha'I Adherents\",'Total Buddhist Adherents', 'Latter Day Saints Adherents','Total Hindu Adherents','Muslims Estimated', 'Total Judaism Adherents']\n",
    "df_el = group.loc[:, filtered]\n",
    "#drop State AK due to missing values for all religions\n",
    "df_el.drop(\"AK\", inplace = True)\n",
    "\n",
    "#summarize protestant groups\n",
    "df_el[\"Protestants\"] = df_el['Evangelical Protestant Adherents'] + df_el['Black Protestant Adherents'] + df_el['Mainline Protestant  Adherents']\n",
    "df_el.drop(['Evangelical Protestant Adherents','Black Protestant Adherents', 'Mainline Protestant  Adherents', 'Baha\\'I Adherents', 'Latter Day Saints Adherents'] , axis=1, inplace = True)\n",
    "\n",
    "#change position of protestants\n",
    "cols = list(df_el) \n",
    "cols.remove('Protestants') \n",
    "cols.insert(10,'Protestants') \n",
    "df_el= df_el.loc[:, cols] \n",
    "\n",
    "#get percebtages for all the religions\n",
    "for i in df_el.loc[:, 'Catholic Adherents': ]:\n",
    "    df_el[i] = df_el[i]/ df_el[\"County Population\"]*100\n",
    "    df_el[i] = df_el[i].round(decimals=2)\n",
    "\n",
    "#get percentages for the votings\n",
    "df_el[\"Clinton\"] = df_el[\"Clinton\"]/df_el[\"Total\"]*100\n",
    "df_el[\"Clinton\"] = df_el[\"Clinton\"].round(decimals=2)\n",
    "df_el[\"Trump\"] = df_el[\"Trump\"]/df_el[\"Total\"]*100\n",
    "df_el[\"Trump\"] = df_el[\"Trump\"].round(decimals=2)\n",
    "df_el[\"Obama\"] = df_el[\"Obama\"]/df_el[\"2012 Total Votes\"]*100\n",
    "df_el[\"Obama\"] = df_el[\"Obama\"].round(decimals=2)\n",
    "df_el[\"Romney\"] = df_el[\"Romney\"]/df_el[\"2012 Total Votes\"]*100\n",
    "df_el[\"Romney\"] = df_el[\"Romney\"].round(decimals=2)\n",
    "\n",
    "df_el.rename(columns={'Total Buddhist Adherents':'Buddhist Adherents(Percent)','Catholic Adherents':'Catholic Adherents(percent)', 'Orthodox Adherents':'Orthodox Adherents(Percent)','Protestants':'Protestants Adherents(Percent)','Total Hindu Adherents':'Hindu Adherents(Percent)', 'Muslims Estimated': 'Muslim Adherents(Percent)', 'Total Judaism Adherents':'Judaism Adherents'}, inplace=True)"
   ]
  },
  {
   "cell_type": "code",
   "execution_count": 10,
   "metadata": {},
   "outputs": [],
   "source": [
    "#some final column drops for sparse table\n",
    "df_el.drop(['County Population', 'Total', '2012 Total Votes'] , axis=1, inplace = True)\n",
    "\n",
    "#create a dummy variable for domination for both years\n",
    "df_el['Dominant_16'] = df_el['Trump'].apply(lambda x: 1 if (x >50)  else 0) \n",
    "df_el['Dominant_12'] = df_el['Romney'].apply(lambda x: 1 if (x >50)  else 0) \n",
    "\n",
    "# group by dummys and create means\n",
    "group16 = df_el.groupby('Dominant_16').mean().round(decimals=2)\n",
    "group12 = df_el.groupby('Dominant_12').mean().round(decimals=2)\n",
    "\n",
    "#some drops\n",
    "group16.drop([\"Dominant_12\", \"Obama\", 'Romney', \"Clinton\", \"Trump\"], axis = 1, inplace = True)\n",
    "group12.drop([\"Dominant_16\", \"Obama\", 'Romney', \"Clinton\", \"Trump\"], axis = 1, inplace = True)"
   ]
  },
  {
   "cell_type": "code",
   "execution_count": 11,
   "metadata": {},
   "outputs": [
    {
     "data": {
      "image/png": "[encoded data removed]",
      "text/plain": [
       "<Figure size 720x504 with 2 Axes>"
      ]
     },
     "metadata": {
      "needs_background": "light"
     },
     "output_type": "display_data"
    }
   ],
   "source": [
    "x = range(len([i for i in group12.columns]))\n",
    "new_x= []\n",
    "for item in x:\n",
    "    new_x.append(item+0.3)\n",
    "ticks = [\"Catolics\", \"ortotox Christ.\", \"Buddism\", \"Protestants\", \"Hinduism\", \"Muslim\", \"Judaism\"]\n",
    "\n",
    "plt.figure(figsize=(10,7))\n",
    "\n",
    "ax1 = plt.subplot(1, 2, 1)\n",
    "plt.bar(x, group12.iloc[0], width = 0.3, color='red')\n",
    "plt.bar(new_x, group12.iloc[1], width = 0.3, color='darkblue')\n",
    "plt.xticks(x, ticks, rotation='vertical')\n",
    "plt.title('USA Election 2012')\n",
    "plt.gcf().subplots_adjust(bottom=0.3)\n",
    "plt.ylabel('Mean % of Religions in states')\n",
    "\n",
    "ax2 = plt.subplot(1, 2, 2, sharey=ax1)\n",
    "plt.bar(x, group16.iloc[0], width = 0.3, color='red')\n",
    "plt.bar(new_x, group16.iloc[1], width = 0.3, color='darkblue')\n",
    "plt.xticks(x, ticks, rotation = \"vertical\")\n",
    "plt.title('USA Election 2016')\n",
    "plt.gcf().subplots_adjust(bottom=0.3)\n",
    "plt.ylabel('Mean % of Religions in states')\n",
    "\n",
    "plt.figlegend(['Clinton domin. States', 'Trump domin. States'], loc = \"lower center\", bbox_to_anchor=(0.40, 0.05))\n",
    "\n",
    "plt.show()"
   ]
  },
  {
   "cell_type": "markdown",
   "metadata": {},
   "source": [
    "### Correlation analysis for religious Affiliation and Voting for Trump in the election 2016"
   ]
  },
  {
   "cell_type": "code",
   "execution_count": 12,
   "metadata": {},
   "outputs": [],
   "source": [
    "#prepare the data \n",
    "df_reg = dfn\n",
    "filtered = [\"County Population\",'Clinton','Trump', 'Total','Obama', 'Romney','2012 Total Votes', 'Evangelical Protestant Adherents', 'Black Protestant Adherents', 'Mainline Protestant  Adherents', 'Catholic Adherents','Orthodox Adherents','Total Buddhist Adherents','Total Hindu Adherents','Muslims Estimated', 'Total Judaism Adherents']\n",
    "df_reg = df_reg.loc[:, filtered]\n",
    "df_reg[\"Protestants\"] = df_reg['Evangelical Protestant Adherents'] + df_reg['Black Protestant Adherents'] + df_reg['Mainline Protestant  Adherents']\n",
    "#df_reg.drop(['Evangelical Protestant Adherents','Black Protestant Adherents', 'Mainline Protestant  Adherents', 'Baha\\'I Adherents', 'Latter Day Saints Adherents'] , axis=1, inplace = True)\n",
    "df_reg.dropna(axis=0, inplace =True)\n",
    "df_reg[\"Trump\"] = df_reg[\"Trump\"]/df_reg[\"Total\"]*100\n",
    "df_reg[\"Trump\"] = df_reg[\"Trump\"].round(decimals=2)\n",
    "#get percebtages for all the religions\n",
    "for i in df_reg.loc[:, 'Catholic Adherents': ]:\n",
    "    df_reg[i] = df_reg[i]/ df_reg[\"County Population\"]*100\n",
    "    df_reg[i] = df_reg[i].round(decimals=2)\n",
    "df_reg.rename(columns={'Total Buddhist Adherents':'Buddhist Adherents(Percent)','Catholic Adherents':'Catholic Adherents(Percent)', 'Orthodox Adherents':'Orthodox Adherents(Percent)','Protestants':'Protestant Adherents(Percent)','Total Hindu Adherents':'Hindu Adherents(Percent)', 'Muslims Estimated': 'Muslim Adherents(Percent)', 'Total Judaism Adherents':'Judaism Adherents(Percent)'}, inplace=True)"
   ]
  },
  {
   "cell_type": "code",
   "execution_count": 13,
   "metadata": {},
   "outputs": [
    {
     "name": "stdout",
     "output_type": "stream",
     "text": [
      "The Pearson Correlation Coefficient of Trump-votings and Catholic Adherents(Percent) is -0.22495377192548427 with a P-value of 1.2507478895296585e-05\n",
      "----------\n",
      "The Pearson Correlation Coefficient of Trump-votings and Orthodox Adherents(Percent) is -0.3582658526421254 with a P-value of 1.2006782207553678e-12\n",
      "----------\n",
      "The Pearson Correlation Coefficient of Trump-votings and Buddhist Adherents(Percent) is -0.4681218119492811 with a P-value of 1.5064035585023974e-21\n",
      "----------\n",
      "The Pearson Correlation Coefficient of Trump-votings and Hindu Adherents(Percent) is -0.23484495056456942 with a P-value of 4.969692672634147e-06\n",
      "----------\n",
      "The Pearson Correlation Coefficient of Trump-votings and Muslim Adherents(Percent) is -0.22890206869683266 with a P-value of 8.695395522448747e-06\n",
      "----------\n",
      "The Pearson Correlation Coefficient of Trump-votings and Judaism Adherents(Percent) is -0.2503199619633725 with a P-value of 1.0795053959347364e-06\n",
      "----------\n",
      "The Pearson Correlation Coefficient of Trump-votings and Protestant Adherents(Percent) is 0.3127348308486838 with a P-value of 7.740430565225944e-10\n",
      "----------\n"
     ]
    }
   ],
   "source": [
    "#Calculating the correlations\n",
    "for i in [\"Catholic Adherents(Percent)\", \"Orthodox Adherents(Percent)\", \"Buddhist Adherents(Percent)\", \"Hindu Adherents(Percent)\", \"Muslim Adherents(Percent)\",\"Judaism Adherents(Percent)\",\"Protestant Adherents(Percent)\"]:\n",
    "    pearson_coef, p_value = stats.pearsonr(df_reg[i], df_reg['Trump'])\n",
    "    print(\"The Pearson Correlation Coefficient of Trump-votings and {} is {} with a P-value of {}\".format(i, pearson_coef, p_value))\n",
    "    print(\"----------\")"
   ]
  },
  {
   "cell_type": "markdown",
   "metadata": {},
   "source": [
    "### Multiple Linear Regression \n",
    "\n",
    "How well can we predict voting for Trump if we know about the different proportions of religions in a state?"
   ]
  },
  {
   "cell_type": "code",
   "execution_count": 14,
   "metadata": {},
   "outputs": [
    {
     "name": "stdout",
     "output_type": "stream",
     "text": [
      "R2-score: 0.27\n",
      "Mean absolute error: 9.37\n",
      "Residual sum of squares (MSE): 131.69\n"
     ]
    }
   ],
   "source": [
    "from sklearn.linear_model import LinearRegression\n",
    "from sklearn.model_selection import train_test_split\n",
    "from sklearn.metrics import r2_score\n",
    "import numpy as np\n",
    "lm=LinearRegression()\n",
    "X= df_reg[[\"Catholic Adherents(Percent)\", \"Orthodox Adherents(Percent)\", \"Buddhist Adherents(Percent)\", \"Hindu Adherents(Percent)\", \"Muslim Adherents(Percent)\",\"Judaism Adherents(Percent)\",\"Protestant Adherents(Percent)\" ]]\n",
    "y = df_reg['Trump']\n",
    "x_train, x_test, y_train, y_test = train_test_split(X, y, random_state=1)\n",
    "lm.fit(x_train,y_train) \n",
    "lm.score(X,y)\n",
    "yhat_test=lm.predict(x_test)\n",
    "yhat_train = lm.predict(x_train)\n",
    "print(\"R2-score: %.2f\" % r2_score(y_test, yhat_test))\n",
    "print(\"Mean absolute error: %.2f\" % np.mean(np.absolute(yhat_test - y_test)))\n",
    "print(\"Residual sum of squares (MSE): %.2f\" % np.mean((yhat_test - y_test) ** 2))"
   ]
  }
 ],
 "metadata": {
  "kernelspec": {
   "display_name": "Python 3",
   "language": "python",
   "name": "python3"
  },
  "language_info": {
   "codemirror_mode": {
    "name": "ipython",
    "version": 3
   },
   "file_extension": ".py",
   "mimetype": "text/x-python",
   "name": "python",
   "nbconvert_exporter": "python",
   "pygments_lexer": "ipython3",
   "version": "3.7.1"
  }
 },
 "nbformat": 4,
 "nbformat_minor": 2
}
